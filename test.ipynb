{
 "cells": [
  {
   "cell_type": "code",
   "execution_count": 1,
   "metadata": {},
   "outputs": [],
   "source": [
    "from camera import *"
   ]
  },
  {
   "cell_type": "code",
   "execution_count": 6,
   "metadata": {},
   "outputs": [],
   "source": [
    "# take a single photo and display it\n",
    "cap1 = WebcamVideoStream(src=0).start()\n",
    "image = cap1.read()\n",
    "Image.fromarray(image).show()\n",
    "cap1.stop()\n",
    "# print(image)"
   ]
  },
  {
   "cell_type": "code",
   "execution_count": 11,
   "metadata": {},
   "outputs": [],
   "source": [
    "image=cv2.resize(image,(600,500))\n",
    "gray=cv2.cvtColor(image,cv2.COLOR_BGR2GRAY)\n",
    "face_rects=face_cascade.detectMultiScale(gray,1.3,5)\n"
   ]
  },
  {
   "cell_type": "code",
   "execution_count": 25,
   "metadata": {},
   "outputs": [],
   "source": [
    "def emotion_rec(image):\n",
    "    image=cv2.resize(image,(600,500))\n",
    "    gray=cv2.cvtColor(image,cv2.COLOR_BGR2GRAY)\n",
    "    face_rects=face_cascade.detectMultiScale(gray,1.3,5)\n",
    "    for (x,y,w,h) in face_rects:\n",
    "        cv2.rectangle(image,(x,y-50),(x+w,y+h+10),(0,255,0),2)\n",
    "        roi_gray_frame = gray[y:y + h, x:x + w]\n",
    "        cropped_img = np.expand_dims(np.expand_dims(cv2.resize(roi_gray_frame, (48, 48)), -1), 0)\n",
    "        # this is the prediction part\n",
    "        prediction = emotion_model.predict(cropped_img)\n",
    "        print(prediction)\n",
    "\n",
    "        maxindex = int(np.argmax(prediction))\n",
    "        detected_emotion = emotion_dict[maxindex]\n",
    "        #print(df1)\n",
    "        cv2.putText(image, emotion_dict[maxindex], (x+20, y-60), cv2.FONT_HERSHEY_SIMPLEX, 1, (255, 255, 255), 2, cv2.LINE_AA)\n",
    "    last_frame = image.copy()\n",
    "    pic = cv2.cvtColor(last_frame, cv2.COLOR_BGR2RGB)     \n",
    "    img = Image.fromarray(last_frame)\n",
    "    img = np.array(img)\n",
    "    ret, jpeg = cv2.imencode('.jpg', img)\n",
    "    return jpeg.tobytes(),detected_emotion"
   ]
  },
  {
   "cell_type": "code",
   "execution_count": 27,
   "metadata": {},
   "outputs": [
    {
     "name": "stdout",
     "output_type": "stream",
     "text": [
      "1/1 [==============================] - 0s 20ms/step\n",
      "[[0.0000000e+00 0.0000000e+00 0.0000000e+00 0.0000000e+00 0.0000000e+00\n",
      "  1.0000000e+00 1.7499502e-19]]\n"
     ]
    }
   ],
   "source": [
    "[jpeg,emotion]=emotion_rec(image)\n",
    "print(emotion)"
   ]
  }
 ],
 "metadata": {
  "kernelspec": {
   "display_name": "venv",
   "language": "python",
   "name": "python3"
  },
  "language_info": {
   "codemirror_mode": {
    "name": "ipython",
    "version": 3
   },
   "file_extension": ".py",
   "mimetype": "text/x-python",
   "name": "python",
   "nbconvert_exporter": "python",
   "pygments_lexer": "ipython3",
   "version": "3.8.10"
  }
 },
 "nbformat": 4,
 "nbformat_minor": 2
}
